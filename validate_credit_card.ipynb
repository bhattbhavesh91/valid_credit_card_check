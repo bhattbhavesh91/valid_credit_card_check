{
 "cells": [
  {
   "cell_type": "markdown",
   "metadata": {},
   "source": [
    "# Validate Credit Card Number Pattern"
   ]
  },
  {
   "cell_type": "markdown",
   "metadata": {},
   "source": [
    "### I have some credit card numbers with me and want to validate them over the below rules.\n",
    "\n",
    "- It must only consist of digits (0-9)\n",
    "\n",
    "- It must start with numbers 4, 5, 6\n",
    "\n",
    "- It may have digits in groups of 4, separated by one hyphen \"-\"\n",
    "\n",
    "- It must NOT have 4 or more consecutive repeated digits\n",
    "\n",
    "- It may contain exactly digits without any spaces\n",
    "\n",
    "- It shouldn't contain any special characters"
   ]
  },
  {
   "cell_type": "code",
   "execution_count": 1,
   "metadata": {
    "collapsed": true
   },
   "outputs": [],
   "source": [
    "import re\n",
    "import itertools"
   ]
  },
  {
   "cell_type": "code",
   "execution_count": 2,
   "metadata": {
    "collapsed": true
   },
   "outputs": [],
   "source": [
    "def check_credit_card_number(card):\n",
    "    # Regular expression to check if the starting number is either 4, 5, 6\n",
    "    start_number_check = re.compile('^4|^5|^6')\n",
    "    \n",
    "    # check if the hyphens are in proper position and if the length of the subgroups are 4 and\n",
    "    # the starting number is 4, 5, 6\n",
    "    \n",
    "    if (len(card.split('-')) == 4 and\n",
    "       all(len(i) == 4 for i in card.split(\"-\")) and \n",
    "       re.match(start_number_check,card.split('-')[0])):\n",
    "        card = card.replace('-','')\n",
    "        try:\n",
    "            int(card)\n",
    "            if max(len(list(g)) for _, g in itertools.groupby(card)) > 3:\n",
    "                print \"Failed: 4+ repeated digits\"\n",
    "            else:\n",
    "                print \"Valid Credit Card\"\n",
    "        except ValueError as e:\n",
    "            print \"Failed: Non Digit Characters\"\n",
    "    else:\n",
    "        print \"Failed: Bad hyphens or length of invalid starting numbers\""
   ]
  },
  {
   "cell_type": "code",
   "execution_count": 3,
   "metadata": {},
   "outputs": [
    {
     "name": "stdout",
     "output_type": "stream",
     "text": [
      "Failed: Bad hyphens or length of invalid starting numbers\n"
     ]
    }
   ],
   "source": [
    "check_credit_card_number(\"0133-3467-8912-112A\")"
   ]
  },
  {
   "cell_type": "code",
   "execution_count": 4,
   "metadata": {},
   "outputs": [
    {
     "name": "stdout",
     "output_type": "stream",
     "text": [
      "Valid Credit Card\n"
     ]
    }
   ],
   "source": [
    "check_credit_card_number(\"4133-3467-8912-1125\")"
   ]
  }
 ],
 "metadata": {
  "kernelspec": {
   "display_name": "Python 2",
   "language": "python",
   "name": "python2"
  },
  "language_info": {
   "codemirror_mode": {
    "name": "ipython",
    "version": 2
   },
   "file_extension": ".py",
   "mimetype": "text/x-python",
   "name": "python",
   "nbconvert_exporter": "python",
   "pygments_lexer": "ipython2",
   "version": "2.7.13"
  }
 },
 "nbformat": 4,
 "nbformat_minor": 2
}
